{
 "cells": [
  {
   "cell_type": "markdown",
   "id": "2e7698a3-3b8c-4c43-a9e0-683081bbbe51",
   "metadata": {},
   "source": [
    "# Here, we describe how to use trained PreMet to directly predict metastasis site potential"
   ]
  },
  {
   "cell_type": "code",
   "execution_count": 3,
   "id": "533b6ca9-522a-4aa9-973b-b19450f583c7",
   "metadata": {},
   "outputs": [],
   "source": [
    "import pandas as pd\n",
    "import numpy as np\n",
    "import anndata as ann\n",
    "import scanpy as sc\n",
    "import os, sys\n",
    "from scipy.stats import pearsonr as pr\n",
    "from sklearn.metrics import mean_squared_error as mse\n",
    "from sklearn.metrics import roc_auc_score\n",
    "from sklearn.metrics import accuracy_score\n",
    "from sklearn.metrics import f1_score as f1\n",
    "from sklearn.metrics import precision_recall_curve as prc\n",
    "from sklearn.metrics import silhouette_score as sil\n",
    "from sklearn.metrics import auc\n",
    "from sklearn.metrics import roc_curve\n",
    "\n",
    "import matplotlib.pyplot as plt\n",
    "import seaborn as sns\n",
    "from sklearn.metrics import precision_score, recall_score, average_precision_score\n"
   ]
  },
  {
   "cell_type": "markdown",
   "id": "0c7e9fb9-599f-48e3-b941-c647fed41f9e",
   "metadata": {},
   "source": [
    "# Generate random data"
   ]
  },
  {
   "cell_type": "markdown",
   "id": "725c5ded-e52e-4e30-a7f5-2e1b05da8fd6",
   "metadata": {},
   "source": [
    "Here, we're using some random data as an example; noted that if sample number is small, it's better to limit the gene number to under 2000"
   ]
  },
  {
   "cell_type": "code",
   "execution_count": 6,
   "id": "10abd7ff-9f89-4542-a54a-77ae2a03faf6",
   "metadata": {},
   "outputs": [],
   "source": [
    "# generate random gene expression\n",
    "n_gene = 1500\n",
    "n_sample = 50\n",
    "rand_gene_expr = np.random.rand(n_sample, n_gene)"
   ]
  },
  {
   "cell_type": "code",
   "execution_count": null,
   "id": "9f0f9176-5f87-4a3b-9a68-b465e4fd74e9",
   "metadata": {},
   "outputs": [],
   "source": [
    "# generate random labels for primary tumor types\n"
   ]
  },
  {
   "cell_type": "code",
   "execution_count": null,
   "id": "c92b4cbc-0ae4-4a28-a212-7b0376ed03b4",
   "metadata": {},
   "outputs": [],
   "source": [
    "# load it into anndata\n",
    "adata = ann.AnnData(rand_gene_expr)"
   ]
  }
 ],
 "metadata": {
  "kernelspec": {
   "display_name": "premet",
   "language": "python",
   "name": "premet"
  },
  "language_info": {
   "codemirror_mode": {
    "name": "ipython",
    "version": 3
   },
   "file_extension": ".py",
   "mimetype": "text/x-python",
   "name": "python",
   "nbconvert_exporter": "python",
   "pygments_lexer": "ipython3",
   "version": "3.8.17"
  }
 },
 "nbformat": 4,
 "nbformat_minor": 5
}
